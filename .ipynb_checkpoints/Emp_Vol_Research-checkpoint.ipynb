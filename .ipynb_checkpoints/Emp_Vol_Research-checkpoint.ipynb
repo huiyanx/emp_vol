{
 "cells": [
  {
   "cell_type": "code",
   "execution_count": 7,
   "metadata": {
    "ExecuteTime": {
     "end_time": "2019-06-07T21:30:36.011133Z",
     "start_time": "2019-06-07T21:30:35.964Z"
    }
   },
   "outputs": [
    {
     "name": "stderr",
     "output_type": "stream",
     "text": [
      "\n",
      "Attaching package: 'dplyr'\n",
      "\n",
      "The following objects are masked from 'package:stats':\n",
      "\n",
      "    filter, lag\n",
      "\n",
      "The following objects are masked from 'package:base':\n",
      "\n",
      "    intersect, setdiff, setequal, union\n",
      "\n"
     ]
    }
   ],
   "source": [
    "library(RODBC)\n",
    "library(stats)\n",
    "library(ggplot2)\n",
    "library(tidyr)\n",
    "library(dplyr)\n",
    "\n",
    "library(repr)\n",
    "options(repr.plot.width=4, repr.plot.height=3)"
   ]
  },
  {
   "cell_type": "code",
   "execution_count": null,
   "metadata": {
    "ExecuteTime": {
     "start_time": "2019-06-07T21:35:30.123Z"
    }
   },
   "outputs": [],
   "source": [
    "odb = odbcConnect('dev mit ro')\n",
    "db = sqlQuery(odb, \"select a.*, b.asg * b.asg as asg2_1yr, c.asg*c.asg as asg2_emp\n",
    "                    from clean_calc.output_emp_vol_aret a \n",
    "                    left join clean_calc.output_emp_vol_1yr b\n",
    "                    on a.pid = b.pid and a.yearmon = b.yearmon - 100\n",
    "                    left join clean_calc.output_emp_vol c\n",
    "                    on a.pid = c.pid and a.yearmon = c.yearmon\n",
    "                    where b.asg is not null and b.asg<>0\n",
    "                    and a.yearmon>=199001 and a.yearmon<200000\n",
    "                    --where a.yearmon = 199501 --and b.asg is not null and b.asg<>0\n",
    "              \")\n",
    "odbcClose(odb)\n",
    "names(db)[3:63] = paste0('m_', names(db)[3:63])\n",
    "copy = db"
   ]
  },
  {
   "cell_type": "code",
   "execution_count": null,
   "metadata": {
    "ExecuteTime": {
     "start_time": "2019-06-07T21:35:35.230Z"
    }
   },
   "outputs": [],
   "source": [
    "db <- select(db, c(\"pid\", \"yearmon\", \"asg2_1yr\", paste0('m_', seq(0,29))))\n",
    "db <- drop_na(db)\n",
    "db$row_mean = rowMeans(as.matrix(db[,4:33]), 1, na.rm=T)\n",
    "\n",
    "print(paste(\"Number of records from source \", format(dim(copy)[1], big.mark=\",\")))\n",
    "print(paste(\"Number of records in current db \", format(dim(db)[1], big.mark=\",\")))\n",
    "print(paste(\"Error asg2_1yr and row_mean: \", sqrt(sqrt(mean((db$asg2_1yr - db$row_mean)^2)))))\n",
    "\n",
    "head(db)"
   ]
  },
  {
   "cell_type": "code",
   "execution_count": 21,
   "metadata": {
    "ExecuteTime": {
     "end_time": "2019-06-07T21:33:40.007980Z",
     "start_time": "2019-06-07T21:33:39.707Z"
    }
   },
   "outputs": [
    {
     "name": "stdout",
     "output_type": "stream",
     "text": [
      "[1] \"lag=3, error=0.447222015096871\"\n",
      "[1] \"lag=6, error=0.435845259151034\"\n",
      "[1] \"lag=9, error=0.431995270281471\"\n",
      "[1] \"lag=12, error=0.423498165316899\"\n",
      "[1] \"lag=15, error=0.423052188239673\"\n",
      "[1] \"lag=18, error=0.418599522799076\"\n",
      "[1] \"lag=21, error=0.416653564504856\"\n",
      "[1] \"lag=24, error=0.41485490578114\"\n",
      "[1] \"lag=27, error=0.414158784069716\"\n",
      "[1] \"lag=30, error=0.412172240391362\"\n"
     ]
    }
   ],
   "source": [
    "for(lag in seq(3, 30, by = 3)){\n",
    "  # lag = 6\n",
    "  model1 = lm(db, formula = paste('asg2_1yr ~ -1', paste(paste0(' + m_', seq(0, lag - 1)), collapse = '')))\n",
    "  summary(model1)\n",
    "  error = sqrt(sqrt(mean((db$asg2_1yr - predict(model1, db))^2, na.rm = T)))\n",
    "  print(paste0(\"lag=\", lag, \", error=\", error))\n",
    "  error_orig = sqrt(sqrt(mean((db$asg2_1yr - db$asg ^ 2)^2, na.rm = T)))\n",
    "  db$pred = predict(model1, db)\n",
    "  p = ggplot(db, aes(x = sqrt(asg2_1yr), y = sqrt(pred))) + geom_point() + geom_abline(intercept = 0, slope = 1, lty = 2) + \n",
    "    scale_x_log10() + scale_y_log10() + labs(title = paste0('lags = ', lag, ', error = ', scales::percent(error)))\n",
    "  #print(p)\n",
    "}"
   ]
  },
  {
   "cell_type": "code",
   "execution_count": 23,
   "metadata": {
    "ExecuteTime": {
     "end_time": "2019-06-07T21:33:51.271694Z",
     "start_time": "2019-06-07T21:33:51.243Z"
    }
   },
   "outputs": [],
   "source": [
    "get_gamma <- function(beta){\n",
    "  alpha = log((1-exp(beta)) / (exp(beta)-exp(beta*(lag+1))))\n",
    "  return(t(matrix(exp(alpha + beta*seq(1,lag)))))\n",
    "}\n",
    "\n",
    "get_prediction <- function(beta) {\n",
    "  gamma = get_gamma(beta)\n",
    "  x = db[,paste(paste0('m_', seq(0, lag - 1)))]\n",
    "  prediction =  gamma%*%t(as.matrix(x))\n",
    "}\n",
    "\n",
    "min_f <-function(beta){\n",
    "  x = db[,paste(paste0('m_', seq(0, lag - 1)))]\n",
    "  prediction =  get_prediction(beta)\n",
    "  error = sum((db$asg2_1yr - prediction)^2, na.rm=T)\n",
    "  return(error)\n",
    "}\n",
    "\n",
    "get_error <- function(beta){\n",
    "  x = db[,paste(paste0('m_', seq(0, lag - 1)))]\n",
    "  prediction =  get_prediction(beta)\n",
    "  error = mean((db$asg2_1yr - prediction)^2, na.rm=T)\n",
    "  return(sqrt(sqrt(error)))\n",
    "}"
   ]
  },
  {
   "cell_type": "code",
   "execution_count": 26,
   "metadata": {
    "ExecuteTime": {
     "end_time": "2019-06-07T21:34:59.029776Z",
     "start_time": "2019-06-07T21:34:58.572Z"
    }
   },
   "outputs": [
    {
     "name": "stdout",
     "output_type": "stream",
     "text": [
      "[1] \"lag:3 error=0.448221487765343\"\n",
      "[1] \"lag:6 error=0.43812812497884\"\n",
      "[1] \"lag:9 error=0.43646746373328\"\n",
      "[1] \"lag:12 error=0.433173995032666\"\n",
      "[1] \"lag:15 error=0.433104119020695\"\n",
      "[1] \"lag:18 error=0.432138931482333\"\n",
      "[1] \"lag:21 error=0.431644355063203\"\n",
      "[1] \"lag:24 error=0.431215220011049\"\n",
      "[1] \"lag:27 error=0.430511662137843\"\n",
      "[1] \"lag:30 error=0.428004702571284\"\n"
     ]
    }
   ],
   "source": [
    "for (lag in seq(3,30, by=3)){\n",
    "  model = nlm(min_f,c(-1))\n",
    "  error =get_error(model$estimate)\n",
    "  print(paste0(\"lag:\", lag, \" error=\", error))\n",
    "}"
   ]
  },
  {
   "cell_type": "code",
   "execution_count": null,
   "metadata": {},
   "outputs": [],
   "source": []
  }
 ],
 "metadata": {
  "kernelspec": {
   "display_name": "R",
   "language": "R",
   "name": "ir"
  },
  "language_info": {
   "codemirror_mode": "r",
   "file_extension": ".r",
   "mimetype": "text/x-r-source",
   "name": "R",
   "pygments_lexer": "r",
   "version": "3.4.4"
  },
  "toc": {
   "base_numbering": 1,
   "nav_menu": {},
   "number_sections": true,
   "sideBar": true,
   "skip_h1_title": false,
   "title_cell": "Table of Contents",
   "title_sidebar": "Contents",
   "toc_cell": false,
   "toc_position": {},
   "toc_section_display": true,
   "toc_window_display": false
  },
  "varInspector": {
   "cols": {
    "lenName": 16,
    "lenType": 16,
    "lenVar": 40
   },
   "kernels_config": {
    "python": {
     "delete_cmd_postfix": "",
     "delete_cmd_prefix": "del ",
     "library": "var_list.py",
     "varRefreshCmd": "print(var_dic_list())"
    },
    "r": {
     "delete_cmd_postfix": ") ",
     "delete_cmd_prefix": "rm(",
     "library": "var_list.r",
     "varRefreshCmd": "cat(var_dic_list()) "
    }
   },
   "types_to_exclude": [
    "module",
    "function",
    "builtin_function_or_method",
    "instance",
    "_Feature"
   ],
   "window_display": false
  }
 },
 "nbformat": 4,
 "nbformat_minor": 2
}
