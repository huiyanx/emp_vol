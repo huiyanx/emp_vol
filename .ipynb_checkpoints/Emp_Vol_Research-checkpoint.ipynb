{
 "cells": [
  {
   "cell_type": "code",
   "execution_count": 1,
   "metadata": {
    "ExecuteTime": {
     "end_time": "2019-06-07T20:50:20.835971Z",
     "start_time": "2019-06-07T20:50:20.513Z"
    }
   },
   "outputs": [],
   "source": [
    "library(RODBC)\n",
    "library(stats)\n",
    "library(ggplot2)\n",
    "library(tidyr)"
   ]
  },
  {
   "cell_type": "code",
   "execution_count": null,
   "metadata": {
    "ExecuteTime": {
     "start_time": "2019-06-07T20:50:52.239Z"
    }
   },
   "outputs": [],
   "source": [
    "odb = odbcConnect('dev mit ro')\n",
    "db = sqlQuery(odb, \"select a.*, b.asg * b.asg as asg2_1yr, c.asg*c.asg as asg2_emp\n",
    "                    from clean_calc.output_emp_vol_aret a \n",
    "                    left join clean_calc.output_emp_vol_1yr b\n",
    "                    on a.pid = b.pid and a.yearmon = b.yearmon - 100\n",
    "                    left join clean_calc.output_emp_vol c\n",
    "                    on a.pid = c.pid and a.yearmon = c.yearmon\n",
    "                    where b.asg is not null and b.asg<>0\n",
    "                    and a.yearmon>199000 and a.yearmon<200000\n",
    "                    --where a.yearmon = 199501 --and b.asg is not null and b.asg<>0\n",
    "              \")\n",
    "odbcClose(odb)"
   ]
  },
  {
   "cell_type": "code",
   "execution_count": null,
   "metadata": {},
   "outputs": [],
   "source": [
    "names(db)[3:63] = paste0('m_', names(db)[3:63])\n",
    "db <- select(db, -60)\n",
    "copy = db"
   ]
  },
  {
   "cell_type": "code",
   "execution_count": null,
   "metadata": {},
   "outputs": [],
   "source": [
    "db <- select()\n",
    "\n",
    "print(paste(\"Number of records from source \", format(dim(copy)[1], big.mark=\",\"))\n",
    "print(paste(\"Number of records in current db \", format(dim(db)[1], big.mark=\",\"))\n",
    "print(paste(\"Error asg2_1yr and row_mean: \", sqrt(sqrt(mean((db$asg2_1yr - db$row_mean)^2))))\n",
    "print(paste(\"Error asg2_emp and row_mean: \", sqrt(sqrt(mean((db$asg2_emp - db$row_mean)^2))))"
   ]
  }
 ],
 "metadata": {
  "kernelspec": {
   "display_name": "R",
   "language": "R",
   "name": "ir"
  },
  "language_info": {
   "codemirror_mode": "r",
   "file_extension": ".r",
   "mimetype": "text/x-r-source",
   "name": "R",
   "pygments_lexer": "r",
   "version": "3.4.4"
  },
  "toc": {
   "base_numbering": 1,
   "nav_menu": {},
   "number_sections": true,
   "sideBar": true,
   "skip_h1_title": false,
   "title_cell": "Table of Contents",
   "title_sidebar": "Contents",
   "toc_cell": false,
   "toc_position": {},
   "toc_section_display": true,
   "toc_window_display": false
  },
  "varInspector": {
   "cols": {
    "lenName": 16,
    "lenType": 16,
    "lenVar": 40
   },
   "kernels_config": {
    "python": {
     "delete_cmd_postfix": "",
     "delete_cmd_prefix": "del ",
     "library": "var_list.py",
     "varRefreshCmd": "print(var_dic_list())"
    },
    "r": {
     "delete_cmd_postfix": ") ",
     "delete_cmd_prefix": "rm(",
     "library": "var_list.r",
     "varRefreshCmd": "cat(var_dic_list()) "
    }
   },
   "types_to_exclude": [
    "module",
    "function",
    "builtin_function_or_method",
    "instance",
    "_Feature"
   ],
   "window_display": false
  }
 },
 "nbformat": 4,
 "nbformat_minor": 2
}
