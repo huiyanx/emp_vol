{
 "cells": [
  {
   "cell_type": "code",
   "execution_count": 1,
   "metadata": {
    "ExecuteTime": {
     "end_time": "2019-06-07T20:50:20.835971Z",
     "start_time": "2019-06-07T20:50:20.513Z"
    }
   },
   "outputs": [],
   "source": [
    "library(RODBC)\n",
    "library(stats)\n",
    "library(ggplot2)\n",
    "library(tidyr)\n",
    "\n",
    "library(repr)\n"
   ]
  },
  {
   "cell_type": "code",
   "execution_count": 2,
   "metadata": {
    "ExecuteTime": {
     "end_time": "2019-06-07T20:59:47.339788Z",
     "start_time": "2019-06-07T20:50:52.239Z"
    }
   },
   "outputs": [],
   "source": [
    "odb = odbcConnect('dev mit ro')\n",
    "db = sqlQuery(odb, \"select a.*, b.asg * b.asg as asg2_1yr, c.asg*c.asg as asg2_emp\n",
    "                    from clean_calc.output_emp_vol_aret a \n",
    "                    left join clean_calc.output_emp_vol_1yr b\n",
    "                    on a.pid = b.pid and a.yearmon = b.yearmon - 100\n",
    "                    left join clean_calc.output_emp_vol c\n",
    "                    on a.pid = c.pid and a.yearmon = c.yearmon\n",
    "                    where b.asg is not null and b.asg<>0\n",
    "                    and a.yearmon>199000 and a.yearmon<200000\n",
    "                    --where a.yearmon = 199501 --and b.asg is not null and b.asg<>0\n",
    "              \")\n",
    "odbcClose(odb)"
   ]
  },
  {
   "cell_type": "code",
   "execution_count": null,
   "metadata": {},
   "outputs": [],
   "source": [
    "odbcClose(odb)"
   ]
  },
  {
   "cell_type": "code",
   "execution_count": null,
   "metadata": {
    "ExecuteTime": {
     "start_time": "2019-06-07T21:00:46.427Z"
    }
   },
   "outputs": [],
   "source": [
    "#save(db, file = \"db_19901999.RData\")"
   ]
  },
  {
   "cell_type": "code",
   "execution_count": null,
   "metadata": {},
   "outputs": [],
   "source": [
    "names(db)[3:63] = paste0('m_', names(db)[3:63])\n",
    "db <- select(db, -60)\n",
    "copy = db"
   ]
  },
  {
   "cell_type": "code",
   "execution_count": null,
   "metadata": {},
   "outputs": [],
   "source": [
    "db <- select(db, c(\"pid\", \"yearmon\", \"asg2_1yr\", paste0('m_', seq(0,29))))\n",
    "db <- drop_na(db)\n",
    "\n",
    "print(paste(\"Number of records from source \", format(dim(copy)[1], big.mark=\",\"))\n",
    "print(paste(\"Number of records in current db \", format(dim(db)[1], big.mark=\",\"))\n",
    "print(paste(\"Error asg2_1yr and row_mean: \", sqrt(sqrt(mean((db$asg2_1yr - db$row_mean)^2))))\n",
    "print(paste(\"Error asg2_emp and row_mean: \", sqrt(sqrt(mean((db$asg2_emp - db$row_mean)^2))))"
   ]
  },
  {
   "cell_type": "code",
   "execution_count": null,
   "metadata": {},
   "outputs": [],
   "source": [
    "for(lag in seq(3, 30, by = 3)){\n",
    "  # lag = 6\n",
    "  model1 = lm(db, formula = paste('asg2_1yr ~ -1', paste(paste0(' + m_', seq(0, lag - 1)), collapse = '')))\n",
    "  summary(model1)\n",
    "  error = sqrt(sqrt(mean((db$asg2_1yr - predict(model1, db))^2, na.rm = T)))\n",
    "  print(paste0(\"lag=\", lag, \", error=\", error))\n",
    "  error_orig = sqrt(sqrt(mean((db$asg2_1yr - db$asg ^ 2)^2, na.rm = T)))\n",
    "  db$pred = predict(model1, db)\n",
    "  p = ggplot(db, aes(x = sqrt(asg2_1yr), y = sqrt(pred))) + geom_point() + geom_abline(intercept = 0, slope = 1, lty = 2) + \n",
    "    scale_x_log10() + scale_y_log10() + labs(title = paste0('lags = ', lag, ', error = ', scales::percent(error)))\n",
    "  #print(p)\n",
    "}"
   ]
  },
  {
   "cell_type": "code",
   "execution_count": null,
   "metadata": {},
   "outputs": [],
   "source": [
    "get_gamma <- function(beta){\n",
    "  alpha = log((1-exp(beta)) / (exp(beta)-exp(beta*(lag+1))))\n",
    "  return(t(matrix(exp(alpha + beta*seq(1,lag)))))\n",
    "}\n",
    "\n",
    "get_prediction <- function(beta) {\n",
    "  gamma = get_gamma(beta)\n",
    "  x = db[,paste(paste0('m_', seq(0, lag - 1)))]\n",
    "  prediction =  gamma%*%t(as.matrix(x))\n",
    "}\n",
    "\n",
    "min_f <-function(beta){\n",
    "  x = db[,paste(paste0('m_', seq(0, lag - 1)))]\n",
    "  prediction =  get_prediction(beta)\n",
    "  error = sum((db$asg2_1yr - prediction)^2, na.rm=T)\n",
    "  return(error)\n",
    "}\n",
    "\n",
    "get_error <- function(beta){\n",
    "  x = db[,paste(paste0('m_', seq(0, lag - 1)))]\n",
    "  prediction =  get_prediction(beta)\n",
    "  error = mean((db$asg2_1yr - prediction)^2, na.rm=T)\n",
    "  return(sqrt(sqrt(error)))\n",
    "}"
   ]
  },
  {
   "cell_type": "code",
   "execution_count": null,
   "metadata": {},
   "outputs": [],
   "source": [
    "for (lag in seq(3,30, by=3)){\n",
    "  model = nlm(min_f,c(-2))\n",
    "  error =get_error(model$estimate)\n",
    "  print(paste0(\"lag:\", lag, \" error=\", error))\n",
    "}"
   ]
  }
 ],
 "metadata": {
  "kernelspec": {
   "display_name": "R",
   "language": "R",
   "name": "ir"
  },
  "language_info": {
   "codemirror_mode": "r",
   "file_extension": ".r",
   "mimetype": "text/x-r-source",
   "name": "R",
   "pygments_lexer": "r",
   "version": "3.4.4"
  },
  "toc": {
   "base_numbering": 1,
   "nav_menu": {},
   "number_sections": true,
   "sideBar": true,
   "skip_h1_title": false,
   "title_cell": "Table of Contents",
   "title_sidebar": "Contents",
   "toc_cell": false,
   "toc_position": {},
   "toc_section_display": true,
   "toc_window_display": false
  },
  "varInspector": {
   "cols": {
    "lenName": 16,
    "lenType": 16,
    "lenVar": 40
   },
   "kernels_config": {
    "python": {
     "delete_cmd_postfix": "",
     "delete_cmd_prefix": "del ",
     "library": "var_list.py",
     "varRefreshCmd": "print(var_dic_list())"
    },
    "r": {
     "delete_cmd_postfix": ") ",
     "delete_cmd_prefix": "rm(",
     "library": "var_list.r",
     "varRefreshCmd": "cat(var_dic_list()) "
    }
   },
   "types_to_exclude": [
    "module",
    "function",
    "builtin_function_or_method",
    "instance",
    "_Feature"
   ],
   "window_display": false
  }
 },
 "nbformat": 4,
 "nbformat_minor": 2
}
